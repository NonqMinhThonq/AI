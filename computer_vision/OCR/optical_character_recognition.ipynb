{
 "cells": [
  {
   "cell_type": "code",
   "execution_count": 4,
   "metadata": {},
   "outputs": [],
   "source": [
    "import easyocr\n",
    "import cv2\n",
    "import numpy as np\n",
    "from matplotlib import pyplot as plt"
   ]
  },
  {
   "cell_type": "code",
   "execution_count": 6,
   "metadata": {},
   "outputs": [],
   "source": [
    "# read in images or video\n",
    "image_path = r'D:\\AI\\computer_vision\\image\\download.jpg'"
   ]
  },
  {
   "cell_type": "code",
   "execution_count": 5,
   "metadata": {},
   "outputs": [
    {
     "name": "stderr",
     "output_type": "stream",
     "text": [
      "Using CPU. Note: This module is much faster with a GPU.\n",
      "Downloading detection model, please wait. This may take several minutes depending upon your network connection.\n"
     ]
    },
    {
     "name": "stdout",
     "output_type": "stream",
     "text": [
      "Progress: |██████████████████████████████████████████████████| 100.0% Complete"
     ]
    },
    {
     "name": "stderr",
     "output_type": "stream",
     "text": [
      "Downloading recognition model, please wait. This may take several minutes depending upon your network connection.\n"
     ]
    },
    {
     "name": "stdout",
     "output_type": "stream",
     "text": [
      "Progress: |██████████████████████████████████████████████████| 100.0% Complete"
     ]
    }
   ],
   "source": [
    "reader = easyocr.Reader(['en'], gpu=False)"
   ]
  },
  {
   "cell_type": "code",
   "execution_count": 7,
   "metadata": {},
   "outputs": [
    {
     "data": {
      "text/plain": [
       "[([[np.int32(44), np.int32(40)],\n",
       "   [np.int32(92), np.int32(40)],\n",
       "   [np.int32(92), np.int32(48)],\n",
       "   [np.int32(44), np.int32(48)]],\n",
       "  'Ltats5',\n",
       "  np.float64(0.01715046286815064)),\n",
       " ([[np.int32(24), np.int32(50)],\n",
       "   [np.int32(78), np.int32(50)],\n",
       "   [np.int32(78), np.int32(56)],\n",
       "   [np.int32(24), np.int32(56)]],\n",
       "  'TeSafett MLLe4',\n",
       "  np.float64(0.0008084143387740285)),\n",
       " ([[np.int32(126), np.int32(74)],\n",
       "   [np.int32(176), np.int32(74)],\n",
       "   [np.int32(176), np.int32(82)],\n",
       "   [np.int32(126), np.int32(82)]],\n",
       "  'Moltru',\n",
       "  np.float64(0.001648588353982397)),\n",
       " ([[np.int32(24), np.int32(142)],\n",
       "   [np.int32(70), np.int32(142)],\n",
       "   [np.int32(70), np.int32(148)],\n",
       "   [np.int32(24), np.int32(148)]],\n",
       "  'U',\n",
       "  np.float64(0.003961159615002485)),\n",
       " ([[np.int32(72), np.int32(160)],\n",
       "   [np.int32(124), np.int32(160)],\n",
       "   [np.int32(124), np.int32(166)],\n",
       "   [np.int32(72), np.int32(166)]],\n",
       "  '4 udtiedta',\n",
       "  np.float64(0.0014706339595660582)),\n",
       " ([[np.int32(88), np.int32(180)],\n",
       "   [np.int32(138), np.int32(180)],\n",
       "   [np.int32(138), np.int32(186)],\n",
       "   [np.int32(88), np.int32(186)]],\n",
       "  'Men',\n",
       "  np.float64(0.0039215914512625))]"
      ]
     },
     "execution_count": 7,
     "metadata": {},
     "output_type": "execute_result"
    }
   ],
   "source": [
    "result = reader.readtext(image_path)\n",
    "result"
   ]
  },
  {
   "cell_type": "code",
   "execution_count": null,
   "metadata": {},
   "outputs": [],
   "source": [
    "# 2, draw result\n",
    "top_left = tuple(result[0][0][0])\n",
    "bottom_right = tuple(result[0][0][2])"
   ]
  },
  {
   "cell_type": "code",
   "execution_count": null,
   "metadata": {},
   "outputs": [],
   "source": []
  },
  {
   "cell_type": "code",
   "execution_count": null,
   "metadata": {},
   "outputs": [],
   "source": []
  }
 ],
 "metadata": {
  "kernelspec": {
   "display_name": "env_ai",
   "language": "python",
   "name": "python3"
  },
  "language_info": {
   "codemirror_mode": {
    "name": "ipython",
    "version": 3
   },
   "file_extension": ".py",
   "mimetype": "text/x-python",
   "name": "python",
   "nbconvert_exporter": "python",
   "pygments_lexer": "ipython3",
   "version": "3.12.8"
  }
 },
 "nbformat": 4,
 "nbformat_minor": 2
}
